{
 "cells": [
  {
   "cell_type": "code",
   "execution_count": 22,
   "id": "f5b4bd40",
   "metadata": {},
   "outputs": [
    {
     "name": "stdout",
     "output_type": "stream",
     "text": [
      "OK\n"
     ]
    }
   ],
   "source": [
    "import langchain\n",
    "print('OK')\n"
   ]
  },
  {
   "cell_type": "code",
   "execution_count": 23,
   "id": "af0853f0",
   "metadata": {},
   "outputs": [
    {
     "data": {
      "text/plain": [
       "True"
      ]
     },
     "execution_count": 23,
     "metadata": {},
     "output_type": "execute_result"
    }
   ],
   "source": [
    "from dotenv import load_dotenv\n",
    "\n",
    "load_dotenv()"
   ]
  },
  {
   "cell_type": "code",
   "execution_count": 24,
   "id": "cb138b77",
   "metadata": {},
   "outputs": [],
   "source": [
    "import os"
   ]
  },
  {
   "cell_type": "code",
   "execution_count": 25,
   "id": "2c55be37",
   "metadata": {},
   "outputs": [],
   "source": [
    "GOOGLE_API_KEY=os.getenv(\"GOOGLE_API_KEY\")"
   ]
  },
  {
   "cell_type": "code",
   "execution_count": 26,
   "id": "ac689f16",
   "metadata": {},
   "outputs": [],
   "source": [
    "HUGGINGFACE_TOKEN=os.getenv(\"HUGGINGFACE_TOKEN\")"
   ]
  },
  {
   "cell_type": "code",
   "execution_count": 27,
   "id": "fbda4e79",
   "metadata": {},
   "outputs": [],
   "source": [
    "OPENAI_API_KEY=os.getenv(\"OPENAI_API_KEY\")"
   ]
  },
  {
   "cell_type": "markdown",
   "id": "b1308b50",
   "metadata": {},
   "source": [
    "## Langchain with OpenAI API"
   ]
  },
  {
   "cell_type": "code",
   "execution_count": 28,
   "id": "c8b94aa1",
   "metadata": {},
   "outputs": [],
   "source": [
    "import openai"
   ]
  },
  {
   "cell_type": "code",
   "execution_count": 29,
   "id": "455b146e",
   "metadata": {},
   "outputs": [],
   "source": [
    "from langchain.llms import OpenAI"
   ]
  },
  {
   "cell_type": "code",
   "execution_count": 30,
   "id": "6a056d3b",
   "metadata": {},
   "outputs": [],
   "source": [
    "llm=OpenAI()"
   ]
  },
  {
   "cell_type": "code",
   "execution_count": 31,
   "id": "44f79d76",
   "metadata": {},
   "outputs": [],
   "source": [
    "text='Can you tell me about yourself?'"
   ]
  },
  {
   "cell_type": "code",
   "execution_count": 32,
   "id": "90a25425",
   "metadata": {},
   "outputs": [],
   "source": [
    "#print(llm.predict(text))"
   ]
  },
  {
   "cell_type": "code",
   "execution_count": 33,
   "id": "49d641e7",
   "metadata": {},
   "outputs": [],
   "source": [
    "from langchain import HuggingFaceHub"
   ]
  },
  {
   "cell_type": "code",
   "execution_count": 34,
   "id": "7a2242fa",
   "metadata": {},
   "outputs": [],
   "source": [
    "llm2=HuggingFaceHub(repo_id=\"google/flan-t5-large\",huggingfacehub_api_token=HUGGINGFACE_TOKEN)"
   ]
  },
  {
   "cell_type": "code",
   "execution_count": 35,
   "id": "d862b94a",
   "metadata": {},
   "outputs": [],
   "source": [
    "llm3=HuggingFaceHub(repo_id=\"meta-llama/Llama-2-7b-chat-hf\",huggingfacehub_api_token=HUGGINGFACE_TOKEN)"
   ]
  },
  {
   "cell_type": "code",
   "execution_count": 21,
   "id": "3a15480f",
   "metadata": {},
   "outputs": [],
   "source": [
    "llm=HuggingFaceHub(repo_id=\"mistralai/Mixtral-8x7B-Instruct-v0.1\",huggingfacehub_api_token=HUGGINGFACE_TOKEN)"
   ]
  },
  {
   "cell_type": "code",
   "execution_count": 42,
   "id": "a5ab9593",
   "metadata": {},
   "outputs": [
    {
     "name": "stdout",
     "output_type": "stream",
     "text": [
      "You are a sailor.\n"
     ]
    }
   ],
   "source": [
    "print(llm2('How are you?'))"
   ]
  },
  {
   "cell_type": "code",
   "execution_count": 44,
   "id": "4204d3c1",
   "metadata": {},
   "outputs": [
    {
     "name": "stdout",
     "output_type": "stream",
     "text": [
      "chennai\n"
     ]
    }
   ],
   "source": [
    "print(llm2.predict('What is the capital city of India ?'))"
   ]
  },
  {
   "cell_type": "markdown",
   "id": "d9f1c7cd",
   "metadata": {},
   "source": [
    "Using Google Gemini AI"
   ]
  },
  {
   "cell_type": "code",
   "execution_count": 45,
   "id": "bca87182",
   "metadata": {},
   "outputs": [],
   "source": [
    "from langchain_google_genai import ChatGoogleGenerativeAI"
   ]
  },
  {
   "cell_type": "code",
   "execution_count": 47,
   "id": "2ddf6613",
   "metadata": {},
   "outputs": [],
   "source": [
    "llm4=ChatGoogleGenerativeAI(model='gemini-pro',google_api_key=GOOGLE_API_KEY)"
   ]
  },
  {
   "cell_type": "code",
   "execution_count": 50,
   "id": "d0e4ab76",
   "metadata": {},
   "outputs": [
    {
     "name": "stdout",
     "output_type": "stream",
     "text": [
      "थाईलैंड की राजधानी बैंकॉक है।\n"
     ]
    }
   ],
   "source": [
    "print(llm4.predict('What is the Capital of Thailand, can you answer it in hindi?'))"
   ]
  },
  {
   "cell_type": "code",
   "execution_count": null,
   "id": "e42ea3c6",
   "metadata": {},
   "outputs": [],
   "source": []
  }
 ],
 "metadata": {
  "kernelspec": {
   "display_name": "Python 3 (ipykernel)",
   "language": "python",
   "name": "python3"
  },
  "language_info": {
   "codemirror_mode": {
    "name": "ipython",
    "version": 3
   },
   "file_extension": ".py",
   "mimetype": "text/x-python",
   "name": "python",
   "nbconvert_exporter": "python",
   "pygments_lexer": "ipython3",
   "version": "3.9.18"
  }
 },
 "nbformat": 4,
 "nbformat_minor": 5
}
