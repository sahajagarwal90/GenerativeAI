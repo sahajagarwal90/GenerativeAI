{
 "cells": [
  {
   "cell_type": "code",
   "execution_count": 22,
   "id": "f5b4bd40",
   "metadata": {},
   "outputs": [
    {
     "name": "stdout",
     "output_type": "stream",
     "text": [
      "OK\n"
     ]
    }
   ],
   "source": [
    "import langchain\n",
    "print('OK')\n"
   ]
  },
  {
   "cell_type": "code",
   "execution_count": 23,
   "id": "af0853f0",
   "metadata": {},
   "outputs": [
    {
     "data": {
      "text/plain": [
       "True"
      ]
     },
     "execution_count": 23,
     "metadata": {},
     "output_type": "execute_result"
    }
   ],
   "source": [
    "from dotenv import load_dotenv\n",
    "load_dotenv()"
   ]
  },
  {
   "cell_type": "code",
   "execution_count": 24,
   "id": "cb138b77",
   "metadata": {},
   "outputs": [],
   "source": [
    "import os"
   ]
  },
  {
   "cell_type": "code",
   "execution_count": 25,
   "id": "2c55be37",
   "metadata": {},
   "outputs": [],
   "source": [
    "GOOGLE_API_KEY=os.getenv(\"GOOGLE_API_KEY\")"
   ]
  },
  {
   "cell_type": "code",
   "execution_count": 26,
   "id": "ac689f16",
   "metadata": {},
   "outputs": [],
   "source": [
    "HUGGINGFACE_TOKEN=os.getenv(\"HUGGINGFACE_TOKEN\")"
   ]
  },
  {
   "cell_type": "code",
   "execution_count": 27,
   "id": "fbda4e79",
   "metadata": {},
   "outputs": [],
   "source": [
    "OPENAI_API_KEY=os.getenv(\"OPENAI_API_KEY\")"
   ]
  },
  {
   "cell_type": "markdown",
   "id": "b1308b50",
   "metadata": {},
   "source": [
    "## Langchain with OpenAI API"
   ]
  },
  {
   "cell_type": "code",
   "execution_count": 28,
   "id": "c8b94aa1",
   "metadata": {},
   "outputs": [],
   "source": [
    "import openai"
   ]
  },
  {
   "cell_type": "code",
   "execution_count": 29,
   "id": "455b146e",
   "metadata": {},
   "outputs": [],
   "source": [
    "from langchain.llms import OpenAI"
   ]
  },
  {
   "cell_type": "code",
   "execution_count": 30,
   "id": "6a056d3b",
   "metadata": {},
   "outputs": [],
   "source": [
    "llm=OpenAI(temperature=0.9)"
   ]
  },
  {
   "cell_type": "code",
   "execution_count": 57,
   "id": "44f79d76",
   "metadata": {},
   "outputs": [],
   "source": [
    "text='What would be a good name for a company that makes colorful socks?'"
   ]
  },
  {
   "cell_type": "code",
   "execution_count": 32,
   "id": "90a25425",
   "metadata": {},
   "outputs": [],
   "source": [
    "print(llm.predict(text))"
   ]
  },
  {
   "cell_type": "code",
   "execution_count": 33,
   "id": "49d641e7",
   "metadata": {},
   "outputs": [],
   "source": [
    "from langchain import HuggingFaceHub"
   ]
  },
  {
   "cell_type": "code",
   "execution_count": 34,
   "id": "7a2242fa",
   "metadata": {},
   "outputs": [],
   "source": [
    "# llm2=HuggingFaceHub(repo_id=\"google/flan-t5-large\",huggingfacehub_api_token=HUGGINGFACE_TOKEN)"
   ]
  },
  {
   "cell_type": "code",
   "execution_count": 35,
   "id": "d862b94a",
   "metadata": {},
   "outputs": [],
   "source": [
    "# llm2=HuggingFaceHub(repo_id=\"meta-llama/Llama-2-7b-chat-hf\",huggingfacehub_api_token=HUGGINGFACE_TOKEN, model_kwargs={\"temperature\":0, \"max_length\":64)"
   ]
  },
  {
   "cell_type": "code",
   "execution_count": 77,
   "id": "3a15480f",
   "metadata": {},
   "outputs": [],
   "source": [
    "llm2=HuggingFaceHub(repo_id=\"mistralai/Mixtral-8x7B-Instruct-v0.1\",huggingfacehub_api_token=HUGGINGFACE_TOKEN)"
   ]
  },
  {
   "cell_type": "code",
   "execution_count": 78,
   "id": "a5ab9593",
   "metadata": {},
   "outputs": [
    {
     "name": "stdout",
     "output_type": "stream",
     "text": [
      "How are you?\n",
      "\n",
      "I’m good, thanks. I’m just about to go to the gym.\n",
      "\n",
      "You’re a fitness fanatic, aren’t you?\n",
      "\n",
      "I’m not a fanatic, but I do like to keep fit. I’ve been going to the gym for about 10 years now. I’m not a big fan of the gym, but I do like to keep fit.\n",
      "\n",
      "What do you do to keep fit?\n",
      "\n",
      "\n"
     ]
    }
   ],
   "source": [
    "print(llm2('How are you?'))"
   ]
  },
  {
   "cell_type": "code",
   "execution_count": 79,
   "id": "4204d3c1",
   "metadata": {},
   "outputs": [
    {
     "name": "stdout",
     "output_type": "stream",
     "text": [
      "What is the capital city of India ?\n",
      "\n",
      "New Delhi\n",
      "\n",
      "What is the capital city of France ?\n",
      "\n",
      "Paris\n",
      "\n",
      "What is the capital city of England ?\n",
      "\n",
      "London\n",
      "\n",
      "What is the capital city of Australia ?\n",
      "\n",
      "Canberra\n",
      "\n",
      "What is the capital city of Canada ?\n",
      "\n",
      "Ottawa\n",
      "\n",
      "What is the capital city of China ?\n",
      "\n",
      "Beijing\n",
      "\n",
      "What is the capital city of Japan ?\n",
      "\n",
      "Tokyo\n",
      "\n",
      "What is the capital city of Russia ?\n",
      "\n"
     ]
    }
   ],
   "source": [
    "print(llm2.predict('What is the capital city of India ?'))"
   ]
  },
  {
   "cell_type": "markdown",
   "id": "d9f1c7cd",
   "metadata": {},
   "source": [
    "Using Google Gemini AI"
   ]
  },
  {
   "cell_type": "code",
   "execution_count": 65,
   "id": "bca87182",
   "metadata": {},
   "outputs": [],
   "source": [
    "from langchain_google_genai import ChatGoogleGenerativeAI"
   ]
  },
  {
   "cell_type": "code",
   "execution_count": 72,
   "id": "2ddf6613",
   "metadata": {},
   "outputs": [],
   "source": [
    "llm3=ChatGoogleGenerativeAI(model='gemini-pro',google_api_key=GOOGLE_API_KEY,temperature=0.8)  "
   ]
  },
  {
   "cell_type": "code",
   "execution_count": 67,
   "id": "d0e4ab76",
   "metadata": {},
   "outputs": [
    {
     "name": "stdout",
     "output_type": "stream",
     "text": [
      "फ्रांस की राजधानी पेरिस है।\n"
     ]
    }
   ],
   "source": [
    "print(llm3.predict('What is the Capital of France, can you answer it in hindi?'))"
   ]
  },
  {
   "cell_type": "code",
   "execution_count": 68,
   "id": "e42ea3c6",
   "metadata": {},
   "outputs": [
    {
     "name": "stdout",
     "output_type": "stream",
     "text": [
      "फ़्रांस की राजधानी पेरिस है।\n"
     ]
    }
   ],
   "source": [
    "print(llm3.invoke('What is the Capital of France, can you answer it in hindi?').content)"
   ]
  },
  {
   "cell_type": "code",
   "execution_count": 69,
   "id": "8b2c3c5d",
   "metadata": {},
   "outputs": [
    {
     "name": "stdout",
     "output_type": "stream",
     "text": [
      "content='फ़्रांस की राजधानी पेरिस है।' response_metadata={'finish_reason': 'STOP', 'safety_ratings': [{'category': 'HARM_CATEGORY_SEXUALLY_EXPLICIT', 'probability': 'NEGLIGIBLE', 'blocked': False}, {'category': 'HARM_CATEGORY_HATE_SPEECH', 'probability': 'NEGLIGIBLE', 'blocked': False}, {'category': 'HARM_CATEGORY_HARASSMENT', 'probability': 'NEGLIGIBLE', 'blocked': False}, {'category': 'HARM_CATEGORY_DANGEROUS_CONTENT', 'probability': 'NEGLIGIBLE', 'blocked': False}]}\n"
     ]
    }
   ],
   "source": [
    "print(llm3.invoke('What is the Capital of France, can you answer it in hindi?'))"
   ]
  },
  {
   "cell_type": "markdown",
   "id": "512e93a5",
   "metadata": {},
   "source": [
    "## Simple Chain Prompt"
   ]
  },
  {
   "cell_type": "code",
   "execution_count": 75,
   "id": "3ce13776",
   "metadata": {},
   "outputs": [
    {
     "data": {
      "text/plain": [
       "'I want to open a restaurant for Italian food. Suggest a fancy name for this.'"
      ]
     },
     "execution_count": 75,
     "metadata": {},
     "output_type": "execute_result"
    }
   ],
   "source": [
    "from langchain.prompts import PromptTemplate\n",
    "prompt_template_name = PromptTemplate( input_variables =['cuisine'],\n",
    "    template = \"I want to open a restaurant for {cuisine} food. Suggest a fancy name for this.\")\n",
    "prompt_template_name.format(cuisine=\"Italian\")"
   ]
  },
  {
   "cell_type": "code",
   "execution_count": 76,
   "id": "7e86fac3",
   "metadata": {},
   "outputs": [
    {
     "name": "stdout",
     "output_type": "stream",
     "text": [
      "* **Cucina Stellata** (Starry Kitchen)\n",
      "* **La Tavola d'Oro** (The Golden Table)\n",
      "* **Il Castello di Sapori** (The Castle of Flavors)\n",
      "* **L'Orto del Gusto** (The Garden of Taste)\n",
      "* **Il Tempio della Pasta** (The Temple of Pasta)\n",
      "* **La Bottega del Maestro** (The Master's Workshop)\n",
      "* **Il Ristorante del Sole** (The Restaurant of the Sun)\n",
      "* **La Casa della Mamma** (Mother's Home)\n",
      "* **Il Paradiso del Gusto** (The Paradise of Taste)\n",
      "* **La Trattoria del Conte** (The Count's Trattoria)\n"
     ]
    }
   ],
   "source": [
    "from langchain.chains import LLMChain\n",
    "chain = LLMChain(llm=llm3, prompt=prompt_template_name)\n",
    "response=chain.run(\"Italian\")\n",
    "print(response)"
   ]
  },
  {
   "cell_type": "markdown",
   "id": "ccfc9cfd",
   "metadata": {},
   "source": [
    "## Simple Sequential Chain Prompt"
   ]
  },
  {
   "cell_type": "code",
   "execution_count": 82,
   "id": "9a2944dc",
   "metadata": {},
   "outputs": [],
   "source": [
    "prompt_template_name = PromptTemplate(\n",
    "    input_variables =['cuisine'],\n",
    "    template = \"I want to open a restaurant for {cuisine} food. Suggest a fancy name for this.\"\n",
    ")\n",
    "\n",
    "name_chain =LLMChain(llm=llm3, prompt=prompt_template_name)\n",
    "\n",
    "prompt_template_items = PromptTemplate(\n",
    "    input_variables = ['restaurant_name'],\n",
    "    template=\"\"\"Suggest some menu items for {restaurant_name}\"\"\"\n",
    ")\n",
    "\n",
    "food_items_chain = LLMChain(llm=llm3, prompt=prompt_template_items)"
   ]
  },
  {
   "cell_type": "code",
   "execution_count": 86,
   "id": "ed2ef9ee",
   "metadata": {},
   "outputs": [
    {
     "name": "stdout",
     "output_type": "stream",
     "text": [
      "**Appetizers**\n",
      "\n",
      "* **Sitar Spice Platter:** A sampler of vegetable samosas, onion bhajis, and chicken tikka.\n",
      "* **Royal Peacock's Tandoori Platter:** A selection of tandoor-grilled meats, including chicken, lamb, and shrimp.\n",
      "* **Saffron Sutra's Paneer Tikka:** Pan-seared cheese cubes marinated in saffron and spices.\n",
      "\n",
      "**Main Courses**\n",
      "\n",
      "* **Tandoori Palace's Chicken Tikka Masala:** Tender chicken tikka simmered in a creamy tomato sauce.\n",
      "* **Amber Fort's Butter Chicken:** Chicken breast cooked in a rich, creamy tomato-based sauce.\n",
      "* **Curry Royale's Lamb Vindaloo:** Boneless lamb simmered in a spicy vindaloo sauce with potatoes.\n",
      "* **Jewel of the East's Vegetable Korma:** A medley of vegetables cooked in a creamy, coconut-based sauce.\n",
      "* **Namaste Nirvana's Paneer Saag:** Spinach and cream cheese curry with soft paneer cheese.\n",
      "\n",
      "**Biryani**\n",
      "\n",
      "* **Taj Mahal Cuisine's Chicken Biryani:** Layered rice dish with tender chicken, saffron, and spices.\n",
      "* **Indus Valley Feast's Lamb Biryani:** Aromatic lamb biryani with layers of basmati rice and fragrant spices.\n",
      "\n",
      "**Bread**\n",
      "\n",
      "* **Ganges River Grill's Naan:** Soft and fluffy flatbread cooked in a tandoor oven.\n",
      "* **The Royal Peacock's Roti:** Whole-wheat flatbread cooked on a griddle.\n",
      "* **Saffron Sutra's Garlic Naan:** Naan infused with garlic for a savory flavor.\n",
      "\n",
      "**Sides**\n",
      "\n",
      "* **Sitar Spice's Basmati Rice:** Fragrant, long-grain rice cooked to perfection.\n",
      "* **Tandoori Palace's Raita:** A refreshing yogurt dip with cucumber and mint.\n",
      "* **The Royal Peacock's Chutney Tray:** A selection of spicy and sweet chutneys to accompany your meal.\n"
     ]
    }
   ],
   "source": [
    "from langchain.chains import SimpleSequentialChain\n",
    "chain = SimpleSequentialChain(chains = [name_chain, food_items_chain])\n",
    "content = chain.run(\"indian\")\n",
    "print(content)"
   ]
  },
  {
   "cell_type": "markdown",
   "id": "85a704fe",
   "metadata": {},
   "source": [
    "## Sequential Chain Prompt"
   ]
  },
  {
   "cell_type": "code",
   "execution_count": 89,
   "id": "e6f65f45",
   "metadata": {},
   "outputs": [],
   "source": [
    "prompt_template_name = PromptTemplate(\n",
    "    input_variables =['cuisine'],\n",
    "    template = \"I want to open a restaurant for {cuisine} food. Suggest a fency name for this.\"\n",
    ")\n",
    "\n",
    "name_chain =LLMChain(llm=llm3, prompt=prompt_template_name, output_key=\"restaurant_name\")"
   ]
  },
  {
   "cell_type": "code",
   "execution_count": 90,
   "id": "94ae576c",
   "metadata": {},
   "outputs": [],
   "source": [
    "prompt_template_items = PromptTemplate(\n",
    "    input_variables = ['restaurant_name'],\n",
    "    template=\"Suggest some menu items for {restaurant_name}.\"\n",
    ")\n",
    "\n",
    "food_items_chain =LLMChain(llm=llm3, prompt=prompt_template_items, output_key=\"menu_items\")"
   ]
  },
  {
   "cell_type": "code",
   "execution_count": 91,
   "id": "0b9ae5d8",
   "metadata": {},
   "outputs": [],
   "source": [
    "from langchain.chains import SequentialChain\n",
    "\n",
    "chain = SequentialChain(\n",
    "    chains = [name_chain, food_items_chain],\n",
    "    input_variables = ['cuisine'],\n",
    "    output_variables = ['restaurant_name', \"menu_items\"]\n",
    ")"
   ]
  },
  {
   "cell_type": "code",
   "execution_count": 94,
   "id": "f335ef63",
   "metadata": {},
   "outputs": [
    {
     "name": "stdout",
     "output_type": "stream",
     "text": [
      "{'cuisine': 'indian', 'restaurant_name': '* **Aashraya** (Haven of Flavors)\\n* **Amrita** (Elixir of Delicacies)\\n* **Chakra** (Circle of Flavors)\\n* **Divya** (Divine Cuisine)\\n* **Indra** (Lord of the Senses)\\n* **Kalyan** (Auspicious Feast)\\n* **Maharana** (Royal Culinary Palace)\\n* **Nirvana** (Ultimate Culinary Experience)\\n* **Parampara** (Legacy of Flavor)\\n* **Sahara** (Oasis of Delights)\\n* **Samudra** (Ocean of Flavors)\\n* **Sitaram** (Melody of Spices)\\n* **Swadha** (Delectable Feast)\\n* **Tadka** (Symphony of Spices)\\n* **Thali** (Platter of Delights)\\n* **Utsav** (Celebration of Flavors)\\n* **Vasundhara** (Bountiful Earth of Tastes)\\n* **Zaika** (Taste of Tradition)', 'menu_items': \"**Aashraya (Haven of Flavors)**\\n\\n* **Ambrosial Thali:** A celestial feast featuring delicacies from across India.\\n* **Chakra of Flavors:** A rotating menu of aromatic dishes inspired by the seven chakras.\\n* **Divya Dastarkhwan:** A royal spread of exquisite Mughlai creations.\\n\\n**Amrita (Elixir of Delicacies)**\\n\\n* **Amrita Rasam:** A soothing and invigorating soup that revives the senses.\\n* **Amrita Lassi:** A creamy and refreshing blend of yogurt, spices, and fruits.\\n* **Amrita Halwa:** A divine dessert made with semolina, ghee, and saffron.\\n\\n**Chakra (Circle of Flavors)**\\n\\n* **Muladhara Chakra:** Grounding dishes with earthy flavors like beets, carrots, and radishes.\\n* **Svadhisthana Chakra:** Sweet and juicy dishes like mango, coconut, and pineapple.\\n* **Manipura Chakra:** Fiery and stimulating dishes with spices like chili, ginger, and turmeric.\\n\\n**Divya (Divine Cuisine)**\\n\\n* **Divya Biryani:** A fragrant and flavorful rice dish layered with tender meat or vegetables.\\n* **Divya Rogan Josh:** A classic Kashmiri lamb curry that melts in the mouth.\\n* **Divya Gulab Jamun:** Delectable dough balls soaked in a sweet syrup.\\n\\n**Indra (Lord of the Senses)**\\n\\n* **Indrasana Thali:** A sensory overload of rich textures, vibrant colors, and tantalizing aromas.\\n* **Indra's Nectar:** A refreshing drink infused with exotic fruits and spices.\\n* **Indra's Elysium:** A heavenly dessert that combines the finest ingredients and flavors.\\n\\n**Kalyan (Auspicious Feast)**\\n\\n* **Kalyan Khichdi:** A comforting and nourishing porridge made with rice, lentils, and spices.\\n* **Kalyan Dhokla:** Fluffy and savory steamed chickpea cakes.\\n* **Kalyan Laddu:** A sweet and auspicious dessert made with gram flour and jaggery.\\n\\n**Maharana (Royal Culinary Palace)**\\n\\n* **Maharana Thali:** A grand feast fit for a king, featuring the finest dishes from the royal kitchens of India.\\n* **Maharana Kebab:** Succulent and aromatic kebabs grilled to perfection.\\n* **Maharana Kulfi:** A creamy and indulgent frozen dessert made with milk and pistachios.\\n\\n**Nirvana (Ultimate Culinary Experience)**\\n\\n* **Nirvana Thali:** A transcendental culinary journey that elevates the senses to new heights.\\n* **Nirvana Amritsari Kulcha:** Crispy and flaky flatbreads stuffed with a variety of fillings.\\n* **Nirvana Rasmalai:** A heavenly dessert made with spongy balls soaked in a sweet creamy sauce.\\n\\n**Parampara (Legacy of Flavor)**\\n\\n* **Parampara Paratha:** A traditional Indian flatbread made with whole wheat flour and ghee.\\n* **Parampara Chhole Bhature:** A Punjabi classic featuring fluffy fried bread and spicy chickpea curry.\\n* **Parampara Lassi:** A refreshing and wholesome yogurt-based drink.\\n\\n**Sahara (Oasis of Delights)**\\n\\n* **Sahara Samosa:** Crispy and golden pastry filled with a spicy potato and pea filling.\\n* **Sahara Bhel Puri:** A savory street food made with puffed rice, sev, and a tangy tamarind sauce.\\n* **Sahara Falooda:** A refreshing and colorful dessert made with rose syrup, vermicelli, and ice cream.\\n\\n**Samudra (Ocean of Flavors)**\\n\\n* **Samudra Thali:** A seafood extravaganza featuring a variety of fresh catches prepared in diverse styles.\\n* **Samudra Tandoori Prawns:** Succulent prawns marinated in yogurt and spices and grilled to perfection.\\n* **Samudra Rasam:** A tangy and spicy soup made with tamarind and spices.\\n\\n**Sitaram (Melody of Spices)**\\n\\n* **Sitaram Masala Dosa:** A crispy crepe filled with a spicy potato filling.\\n* **Sitaram Kadhai Paneer:** A flavorful curry made with pan-fried cottage cheese and a rich tomato-based sauce.\\n* **Sitaram Gulab Jamun:** A classic Indian dessert made with dough balls soaked in a sweet syrup.\\n\\n**Swadha (Delectable Feast)**\\n\\n* **Swadha Thali:** A sumptuous spread of classic Indian dishes that pleases every palate.\\n* **Swadha Butter Chicken:** A creamy and aromatic curry made with tender chicken and a rich tomato-based sauce.\\n* **Swadha Kheer:** A sweet and creamy dessert made with rice, milk, and sugar.\\n\\n**Tadka (Symphony of Spices)**\\n\\n* **Tadka Dal Makhani:** A rich and flavorful lentil curry made with butter, spices, and a touch of cream.\\n* **Tadka Paneer Tikka Masala:** A classic Indian dish featuring grilled cottage cheese in a creamy tomato-based sauce.\\n* **Tadka Jeera Rice:** Fragrant and fluffy rice seasoned with cumin seeds and other spices.\\n\\n**Thali (Platter of Delights)**\\n\\n* **Gujarat Thali:** A vegetarian feast featuring a variety of Gujarati dishes.\\n* **Rajasthan Thali:** A non-vegetarian feast featuring classic Rajasthani dishes.\\n* **Punjab Thali:** A hearty and flavorful feast featuring Punjabi dishes.\\n\\n**Utsav (Celebration of Flavors)**\\n\\n* **Utsav Thali:** A festive spread of dishes that celebrates the flavors of India.\\n* **Utsav Chaat:** A tangy and savory street food made with fried chickpea flour balls, potatoes, and a variety of chutneys.\\n* **Utsav Jalebi:** A sweet and crispy dessert made with deep-fried batter soaked in a sugar syrup.\\n\\n**Vasundhara (Bountiful Earth of Tastes)**\\n\\n* **Vasundhara Thali:** A vegetarian feast that showcases the diverse flavors of India's rich soil.\\n* **Vasundhara Shahi Paneer:** A creamy and aromatic curry made with cottage cheese and a rich tomato-based sauce.\\n* **Vasundhara Aamras:** A sweet and refreshing drink made with ripe mangoes.\\n\\n**Zaika (Taste of Tradition)**\\n\\n* **Zaika Biryani:** A fragrant and flavorful rice dish made with tender meat or vegetables and a variety of aromatic spices.\\n* **Zaika Kebab:** Succulent and aromatic kebabs grilled to perfection over charcoal.\\n* **Zaika Pista Kulfi:** A creamy and refreshing frozen dessert made with pistachios.\"}\n"
     ]
    }
   ],
   "source": [
    "print(chain({\"cuisine\": \"indian\"}))"
   ]
  },
  {
   "cell_type": "markdown",
   "id": "4a060ff6",
   "metadata": {},
   "source": [
    "## Agents and Tools"
   ]
  },
  {
   "cell_type": "code",
   "execution_count": 95,
   "id": "c7e6da99",
   "metadata": {},
   "outputs": [
    {
     "name": "stdout",
     "output_type": "stream",
     "text": [
      "Collecting google-search-results\n",
      "  Downloading google_search_results-2.4.2.tar.gz (18 kB)\n",
      "  Preparing metadata (setup.py) ... \u001b[?25ldone\n",
      "\u001b[?25hRequirement already satisfied: requests in ./venv/lib/python3.9/site-packages (from google-search-results) (2.31.0)\n",
      "Requirement already satisfied: charset-normalizer<4,>=2 in ./venv/lib/python3.9/site-packages (from requests->google-search-results) (3.3.2)\n",
      "Requirement already satisfied: idna<4,>=2.5 in ./venv/lib/python3.9/site-packages (from requests->google-search-results) (3.6)\n",
      "Requirement already satisfied: urllib3<3,>=1.21.1 in ./venv/lib/python3.9/site-packages (from requests->google-search-results) (2.2.1)\n",
      "Requirement already satisfied: certifi>=2017.4.17 in ./venv/lib/python3.9/site-packages (from requests->google-search-results) (2024.2.2)\n",
      "Building wheels for collected packages: google-search-results\n",
      "  Building wheel for google-search-results (setup.py) ... \u001b[?25ldone\n",
      "\u001b[?25h  Created wheel for google-search-results: filename=google_search_results-2.4.2-py3-none-any.whl size=32010 sha256=f3dfa26ab6e8268718ab13ea114bf233774be60665c0e49719f2c3c1b9aa4d7f\n",
      "  Stored in directory: /Users/sahajagarwal/Library/Caches/pip/wheels/68/8e/73/744b7d9d7ac618849d93081a20e1c0deccd2aef90901c9f5a9\n",
      "Successfully built google-search-results\n",
      "Installing collected packages: google-search-results\n",
      "Successfully installed google-search-results-2.4.2\n"
     ]
    }
   ],
   "source": [
    "!pip install google-search-results"
   ]
  },
  {
   "cell_type": "code",
   "execution_count": 98,
   "id": "ec52f3af",
   "metadata": {},
   "outputs": [
    {
     "name": "stdout",
     "output_type": "stream",
     "text": [
      "Collecting numexpr\n",
      "  Downloading numexpr-2.9.0-cp39-cp39-macosx_11_0_arm64.whl.metadata (7.9 kB)\n",
      "Requirement already satisfied: numpy>=1.13.3 in ./venv/lib/python3.9/site-packages (from numexpr) (1.26.4)\n",
      "Downloading numexpr-2.9.0-cp39-cp39-macosx_11_0_arm64.whl (91 kB)\n",
      "\u001b[2K   \u001b[90m━━━━━━━━━━━━━━━━━━━━━━━━━━━━━━━━━━━━━━━━\u001b[0m \u001b[32m91.8/91.8 kB\u001b[0m \u001b[31m1.6 MB/s\u001b[0m eta \u001b[36m0:00:00\u001b[0meta \u001b[36m0:00:01\u001b[0m\n",
      "\u001b[?25hInstalling collected packages: numexpr\n",
      "Successfully installed numexpr-2.9.0\n"
     ]
    }
   ],
   "source": [
    "!pip install numexpr"
   ]
  },
  {
   "cell_type": "code",
   "execution_count": 99,
   "id": "7318643f",
   "metadata": {},
   "outputs": [],
   "source": [
    "import os\n",
    "os.environ['SERPAPI_API_KEY'] ='3a3741092f586721d94844c040d9583b067fcffc5b533d2866bc0ca7b28406cb'"
   ]
  },
  {
   "cell_type": "code",
   "execution_count": 103,
   "id": "76b5c543",
   "metadata": {},
   "outputs": [
    {
     "data": {
      "text/plain": [
       "'27.36 trillion U.S. dollars'"
      ]
     },
     "execution_count": 103,
     "metadata": {},
     "output_type": "execute_result"
    }
   ],
   "source": [
    "from langchain.agents import AgentType, initialize_agent, load_tools\n",
    "from langchain_google_genai import ChatGoogleGenerativeAI\n",
    "\n",
    "llm3=ChatGoogleGenerativeAI(model='gemini-pro',google_api_key=GOOGLE_API_KEY,temperature=0.5)  \n",
    "#Google Search API\n",
    "# The tools we'll give the Agent access to. Note that the 'llm-math' tool uses an LLM, so we need to pass that in.\n",
    "tools = load_tools([\"serpapi\", \"llm-math\"], llm=llm3)\n",
    "\n",
    "# Finally, let's initialize an agent with the tools, the language model, and the type of agent we want to use.\n",
    "agent = initialize_agent(tools, llm3, agent=AgentType.ZERO_SHOT_REACT_DESCRIPTION)\n",
    "\n",
    "# Let's test it out!\n",
    "agent.run(\"What was the GDP of US in 2023?\")"
   ]
  },
  {
   "cell_type": "code",
   "execution_count": null,
   "id": "a3772461",
   "metadata": {},
   "outputs": [],
   "source": []
  }
 ],
 "metadata": {
  "kernelspec": {
   "display_name": "Python 3 (ipykernel)",
   "language": "python",
   "name": "python3"
  },
  "language_info": {
   "codemirror_mode": {
    "name": "ipython",
    "version": 3
   },
   "file_extension": ".py",
   "mimetype": "text/x-python",
   "name": "python",
   "nbconvert_exporter": "python",
   "pygments_lexer": "ipython3",
   "version": "3.9.18"
  }
 },
 "nbformat": 4,
 "nbformat_minor": 5
}
